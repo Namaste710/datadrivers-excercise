{
 "cells": [
  {
   "cell_type": "code",
   "execution_count": 2,
   "metadata": {},
   "outputs": [],
   "source": [
    "from google.cloud import storage\n",
    "import os\n",
    "import pandas as pd\n",
    "import pandas_gbq\n",
    "\n",
    "BUCKET_NAME = \"datadrivers-demo\"\n",
    "BLOB_NAME = \"BR_category_id.json\"\n",
    "PROJECT_ID = \"fabled-archive-412122\"\n",
    "TABLE_NAME = \"datadrivers_demo.ytcategories_trending\"\n",
    "\n",
    "os.environ[\"GOOGLE_APPLICATION_CREDENTIALS\"] = \"/Users/nguyehoa/Repositories/Personal/zoomcamp-homework/01-docker-terraform/keys/fabled-archive-412122-795c6304ed01.json\"\n",
    "\n",
    "\n",
    "storage_client = storage.Client()\n",
    "bucket = storage_client.bucket(BUCKET_NAME)\n",
    "blob = bucket.blob(BLOB_NAME)\n",
    "\n",
    "with blob.open(\"r\") as f:\n",
    "    df = pd.read_json(f)\n",
    "\n",
    "new_df = pd.json_normalize(df[\"items\"])\n",
    "new_df = new_df.rename(columns={\"snippet.title\": \"snippet_title\", \"snippet.assignable\": \"snippet_assignable\", \"snippet.channelId\": \"snippet_channelId\"})\n",
    "\n",
    "pandas_gbq.to_gbq(new_df, TABLE_NAME, PROJECT_ID, location=\"europe-west3\", if_exists=\"replace\")\n"
   ]
  },
  {
   "cell_type": "markdown",
   "metadata": {},
   "source": []
  },
  {
   "cell_type": "markdown",
   "metadata": {},
   "source": []
  },
  {
   "cell_type": "code",
   "execution_count": null,
   "metadata": {},
   "outputs": [],
   "source": []
  }
 ],
 "metadata": {
  "kernelspec": {
   "display_name": "datadrivers-dbt",
   "language": "python",
   "name": "python3"
  },
  "language_info": {
   "codemirror_mode": {
    "name": "ipython",
    "version": 3
   },
   "file_extension": ".py",
   "mimetype": "text/x-python",
   "name": "python",
   "nbconvert_exporter": "python",
   "pygments_lexer": "ipython3",
   "version": "3.11.6"
  }
 },
 "nbformat": 4,
 "nbformat_minor": 2
}
